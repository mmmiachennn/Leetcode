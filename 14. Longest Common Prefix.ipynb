{
 "cells": [
  {
   "cell_type": "code",
   "execution_count": null,
   "metadata": {},
   "outputs": [],
   "source": [
    "class Solution:\n",
    "    def longestCommonPrefix(self, strs: List[str]) -> str:\n",
    "        context = \"\"\n",
    "        if (strs[0][0] == strs[1][0]) and (strs[0][0] == strs[2][0]):\n",
    "            context = strs[0][0]\n",
    "            if (strs[0][0:1] == strs[1][0:1]) and (strs[0][0:1] == strs[2][0:1]):\n",
    "                context = strs[0][0:1]\n",
    "        return context"
   ]
  }
 ],
 "metadata": {
  "kernelspec": {
   "display_name": "Python 3",
   "language": "python",
   "name": "python3"
  },
  "language_info": {
   "codemirror_mode": {
    "name": "ipython",
    "version": 3
   },
   "file_extension": ".py",
   "mimetype": "text/x-python",
   "name": "python",
   "nbconvert_exporter": "python",
   "pygments_lexer": "ipython3",
   "version": "3.7.1"
  }
 },
 "nbformat": 4,
 "nbformat_minor": 2
}
